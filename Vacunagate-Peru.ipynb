{
 "cells": [
  {
   "cell_type": "code",
   "execution_count": 233,
   "metadata": {},
   "outputs": [],
   "source": [
    "#include any libraries needed\n",
    "import pandas as pd"
   ]
  },
  {
   "cell_type": "code",
   "execution_count": 234,
   "metadata": {},
   "outputs": [],
   "source": [
    "archivo_original = '487vacunados.csv'\n",
    "archivo_limpiado = '487vacunados-limpio.csv'"
   ]
  },
  {
   "cell_type": "code",
   "execution_count": 235,
   "metadata": {},
   "outputs": [
    {
     "output_type": "execute_result",
     "data": {
      "text/plain": [
       "   N  Sede            Apellidos       Nombre  Edad       DNI      Fecha1  \\\n",
       "0  1  UPCH   GONZALES ZARIQUIEY      ARMANDO  60.0  07330504  2020-09-09   \n",
       "1  2  UPCH       GARCIA LESCANO  HUGO HECTOR  57.0  06083069  2020-09-09   \n",
       "2  3  UPCH         SAENZ HUAMAN  EDITH MARIA  27.0  47860631  2020-09-09   \n",
       "3  4  UPCH  JAMANCA HUANCAHUARI      JULISSA  33.0  44576282  2020-09-09   \n",
       "4  5  UPCH      ROSARIO VIDARTE     CAROLINA  29.0  46702086  2020-09-09   \n",
       "\n",
       "       Fecha2      Fecha3           Observacion  Proyecto  \n",
       "0  2020-09-30  2021-01-29             CONSULTOR  PROYECTO  \n",
       "1  2020-09-30  2020-12-28  PERSONAL DEL ESTUDIO  PROYECTO  \n",
       "2  2020-09-30  2021-01-04  PERSONAL DEL ESTUDIO  PROYECTO  \n",
       "3  2020-09-30         NaN  PERSONAL DEL ESTUDIO  PROYECTO  \n",
       "4  2020-09-30  2021-01-04  PERSONAL DEL ESTUDIO  PROYECTO  "
      ],
      "text/html": "<div>\n<style scoped>\n    .dataframe tbody tr th:only-of-type {\n        vertical-align: middle;\n    }\n\n    .dataframe tbody tr th {\n        vertical-align: top;\n    }\n\n    .dataframe thead th {\n        text-align: right;\n    }\n</style>\n<table border=\"1\" class=\"dataframe\">\n  <thead>\n    <tr style=\"text-align: right;\">\n      <th></th>\n      <th>N</th>\n      <th>Sede</th>\n      <th>Apellidos</th>\n      <th>Nombre</th>\n      <th>Edad</th>\n      <th>DNI</th>\n      <th>Fecha1</th>\n      <th>Fecha2</th>\n      <th>Fecha3</th>\n      <th>Observacion</th>\n      <th>Proyecto</th>\n    </tr>\n  </thead>\n  <tbody>\n    <tr>\n      <th>0</th>\n      <td>1</td>\n      <td>UPCH</td>\n      <td>GONZALES ZARIQUIEY</td>\n      <td>ARMANDO</td>\n      <td>60.0</td>\n      <td>07330504</td>\n      <td>2020-09-09</td>\n      <td>2020-09-30</td>\n      <td>2021-01-29</td>\n      <td>CONSULTOR</td>\n      <td>PROYECTO</td>\n    </tr>\n    <tr>\n      <th>1</th>\n      <td>2</td>\n      <td>UPCH</td>\n      <td>GARCIA LESCANO</td>\n      <td>HUGO HECTOR</td>\n      <td>57.0</td>\n      <td>06083069</td>\n      <td>2020-09-09</td>\n      <td>2020-09-30</td>\n      <td>2020-12-28</td>\n      <td>PERSONAL DEL ESTUDIO</td>\n      <td>PROYECTO</td>\n    </tr>\n    <tr>\n      <th>2</th>\n      <td>3</td>\n      <td>UPCH</td>\n      <td>SAENZ HUAMAN</td>\n      <td>EDITH MARIA</td>\n      <td>27.0</td>\n      <td>47860631</td>\n      <td>2020-09-09</td>\n      <td>2020-09-30</td>\n      <td>2021-01-04</td>\n      <td>PERSONAL DEL ESTUDIO</td>\n      <td>PROYECTO</td>\n    </tr>\n    <tr>\n      <th>3</th>\n      <td>4</td>\n      <td>UPCH</td>\n      <td>JAMANCA HUANCAHUARI</td>\n      <td>JULISSA</td>\n      <td>33.0</td>\n      <td>44576282</td>\n      <td>2020-09-09</td>\n      <td>2020-09-30</td>\n      <td>NaN</td>\n      <td>PERSONAL DEL ESTUDIO</td>\n      <td>PROYECTO</td>\n    </tr>\n    <tr>\n      <th>4</th>\n      <td>5</td>\n      <td>UPCH</td>\n      <td>ROSARIO VIDARTE</td>\n      <td>CAROLINA</td>\n      <td>29.0</td>\n      <td>46702086</td>\n      <td>2020-09-09</td>\n      <td>2020-09-30</td>\n      <td>2021-01-04</td>\n      <td>PERSONAL DEL ESTUDIO</td>\n      <td>PROYECTO</td>\n    </tr>\n  </tbody>\n</table>\n</div>"
     },
     "metadata": {},
     "execution_count": 235
    }
   ],
   "source": [
    "ds = pd.read_csv(archivo_original)\n",
    "ds.head(5)"
   ]
  },
  {
   "cell_type": "code",
   "execution_count": 236,
   "metadata": {},
   "outputs": [
    {
     "output_type": "execute_result",
     "data": {
      "text/plain": [
       "   N  Sede            Apellidos       Nombre  Edad       DNI      Fecha1  \\\n",
       "0  1  UPCH   GONZALES ZARIQUIEY      ARMANDO  60.0  07330504  2020-09-09   \n",
       "1  2  UPCH       GARCIA LESCANO  HUGO HECTOR  57.0  06083069  2020-09-09   \n",
       "2  3  UPCH         SAENZ HUAMAN  EDITH MARIA  27.0  47860631  2020-09-09   \n",
       "3  4  UPCH  JAMANCA HUANCAHUARI      JULISSA  33.0  44576282  2020-09-09   \n",
       "4  5  UPCH      ROSARIO VIDARTE     CAROLINA  29.0  46702086  2020-09-09   \n",
       "\n",
       "       Fecha2      Fecha3           Observacion  Proyecto  DNIValido  \n",
       "0  2020-09-30  2021-01-29             CONSULTOR  PROYECTO          1  \n",
       "1  2020-09-30  2020-12-28  PERSONAL DEL ESTUDIO  PROYECTO          1  \n",
       "2  2020-09-30  2021-01-04  PERSONAL DEL ESTUDIO  PROYECTO          1  \n",
       "3  2020-09-30         NaN  PERSONAL DEL ESTUDIO  PROYECTO          1  \n",
       "4  2020-09-30  2021-01-04  PERSONAL DEL ESTUDIO  PROYECTO          1  "
      ],
      "text/html": "<div>\n<style scoped>\n    .dataframe tbody tr th:only-of-type {\n        vertical-align: middle;\n    }\n\n    .dataframe tbody tr th {\n        vertical-align: top;\n    }\n\n    .dataframe thead th {\n        text-align: right;\n    }\n</style>\n<table border=\"1\" class=\"dataframe\">\n  <thead>\n    <tr style=\"text-align: right;\">\n      <th></th>\n      <th>N</th>\n      <th>Sede</th>\n      <th>Apellidos</th>\n      <th>Nombre</th>\n      <th>Edad</th>\n      <th>DNI</th>\n      <th>Fecha1</th>\n      <th>Fecha2</th>\n      <th>Fecha3</th>\n      <th>Observacion</th>\n      <th>Proyecto</th>\n      <th>DNIValido</th>\n    </tr>\n  </thead>\n  <tbody>\n    <tr>\n      <th>0</th>\n      <td>1</td>\n      <td>UPCH</td>\n      <td>GONZALES ZARIQUIEY</td>\n      <td>ARMANDO</td>\n      <td>60.0</td>\n      <td>07330504</td>\n      <td>2020-09-09</td>\n      <td>2020-09-30</td>\n      <td>2021-01-29</td>\n      <td>CONSULTOR</td>\n      <td>PROYECTO</td>\n      <td>1</td>\n    </tr>\n    <tr>\n      <th>1</th>\n      <td>2</td>\n      <td>UPCH</td>\n      <td>GARCIA LESCANO</td>\n      <td>HUGO HECTOR</td>\n      <td>57.0</td>\n      <td>06083069</td>\n      <td>2020-09-09</td>\n      <td>2020-09-30</td>\n      <td>2020-12-28</td>\n      <td>PERSONAL DEL ESTUDIO</td>\n      <td>PROYECTO</td>\n      <td>1</td>\n    </tr>\n    <tr>\n      <th>2</th>\n      <td>3</td>\n      <td>UPCH</td>\n      <td>SAENZ HUAMAN</td>\n      <td>EDITH MARIA</td>\n      <td>27.0</td>\n      <td>47860631</td>\n      <td>2020-09-09</td>\n      <td>2020-09-30</td>\n      <td>2021-01-04</td>\n      <td>PERSONAL DEL ESTUDIO</td>\n      <td>PROYECTO</td>\n      <td>1</td>\n    </tr>\n    <tr>\n      <th>3</th>\n      <td>4</td>\n      <td>UPCH</td>\n      <td>JAMANCA HUANCAHUARI</td>\n      <td>JULISSA</td>\n      <td>33.0</td>\n      <td>44576282</td>\n      <td>2020-09-09</td>\n      <td>2020-09-30</td>\n      <td>NaN</td>\n      <td>PERSONAL DEL ESTUDIO</td>\n      <td>PROYECTO</td>\n      <td>1</td>\n    </tr>\n    <tr>\n      <th>4</th>\n      <td>5</td>\n      <td>UPCH</td>\n      <td>ROSARIO VIDARTE</td>\n      <td>CAROLINA</td>\n      <td>29.0</td>\n      <td>46702086</td>\n      <td>2020-09-09</td>\n      <td>2020-09-30</td>\n      <td>2021-01-04</td>\n      <td>PERSONAL DEL ESTUDIO</td>\n      <td>PROYECTO</td>\n      <td>1</td>\n    </tr>\n  </tbody>\n</table>\n</div>"
     },
     "metadata": {},
     "execution_count": 236
    }
   ],
   "source": [
    "#Existen 89 filas sin DNI, 1 fila con DNI de 9 digitos, y fila con DNI con letras\n",
    "#Habria que buscar por nombre en SUNAT o RENIEC\n",
    "ds[\"DNIValido\"] = ds.DNI.apply(lambda s: 1 if len(str(s)) == 8 else 0)\n",
    "ds.head(5)"
   ]
  },
  {
   "cell_type": "code",
   "execution_count": 237,
   "metadata": {},
   "outputs": [],
   "source": [
    "ds[\"PartidoPolitico\"] = ds.DNIValido.apply(lambda s: 'Sin DNI no se puede verificar' if s == 0 else '')"
   ]
  },
  {
   "cell_type": "code",
   "execution_count": 238,
   "metadata": {},
   "outputs": [],
   "source": [
    "#PALOMA LUCIA VERNE UGARTE (fila 270)\n",
    "#DNI incorrecto\n",
    "ds.loc[ds['DNI'] == '72973480',['DNI']]='72973980'\n",
    "#PALOMA LUCIA VERNE UGARTE (fila 270), con DNI 72973980, pertenece a ACCIÓN POPULAR\n",
    "#Hay que buscar por DNI, manualmente, en el Registro de Organizaciones Politicas\n",
    "#https://aplicaciones007.jne.gob.pe/srop_publico/Consulta/Afiliado\n",
    "ds.loc[ds['DNI'] == '72973980',['PartidoPolitico']]='Accion Popular'"
   ]
  },
  {
   "cell_type": "code",
   "execution_count": 239,
   "metadata": {},
   "outputs": [],
   "source": [
    "#MARIA NATIVIDAD TICONA ZEGARRA (fila 107)\n",
    "#DNI incorrecto\n",
    "ds.loc[ds['DNI'] == '76686164',['DNI']]='07686164'"
   ]
  },
  {
   "cell_type": "code",
   "execution_count": 240,
   "metadata": {},
   "outputs": [],
   "source": [
    "# TOLEDO HIDALGO WASHINGTON (fila 112)\n",
    "#DNI incorrecto\n",
    "ds.loc[ds['DNI'] == '05638112',['DNI']]='06638112'"
   ]
  },
  {
   "cell_type": "code",
   "execution_count": 241,
   "metadata": {},
   "outputs": [],
   "source": [
    "#CARMEN ROSA ALIPAZAGA CAMACHO (fila 414) = ROSA CARMEN ALIPAZAGA CAMACHO (fila 56)\n",
    "ds.loc[ds['N'] == 414,['Nombre']]='ROSA CARMEN'"
   ]
  },
  {
   "cell_type": "code",
   "execution_count": 242,
   "metadata": {},
   "outputs": [],
   "source": [
    "#VICTOR MIGUEL BENAVIDES BAZAAN (fila 412) = VICTOR MIGUEL BENAVIDES BAZAN (fila 64)\n",
    "ds.loc[ds['N'] == 412,['Apellidos']]='BENAVIDES BAZAN'"
   ]
  },
  {
   "cell_type": "code",
   "execution_count": 243,
   "metadata": {},
   "outputs": [],
   "source": [
    "#PEDRO JESUS CARMONA AVILA (fila 45) = PEDRO CARMONA AVILA (fila 402)\n",
    "ds.loc[ds['N'] == 402,['Nombre']]='PEDRO JESUS'"
   ]
  },
  {
   "cell_type": "code",
   "execution_count": 244,
   "metadata": {},
   "outputs": [],
   "source": [
    "#MIGUEL LUIS GUERRERO GUARBAMINO (fila 223) = MIGUEL LUIS GUERRERO GUARDAMINO (fila 76)\n",
    "ds.loc[ds['N'] == 223,['Apellidos']]='GUERRERO GUARDAMINO'"
   ]
  },
  {
   "cell_type": "code",
   "execution_count": 245,
   "metadata": {},
   "outputs": [],
   "source": [
    "#ROCIO DEL PILAR HUAROTO VALDIVIA (fila 40) = ROCIO HUAROTO VALDIVIA (fila 401)\n",
    "ds.loc[ds['N'] == 401,['Nombre']]='ROCIO DEL PILAR'"
   ]
  },
  {
   "cell_type": "code",
   "execution_count": 246,
   "metadata": {},
   "outputs": [],
   "source": [
    "#DELINA GLADYS PASTRANA ÑAÑA (fila 57) = DELMA GLADYS PASTRANA ÑAÑA (fila 415)\n",
    "ds.loc[ds['N'] == 57,['Nombre']]='DELMA GLADYS'"
   ]
  },
  {
   "cell_type": "code",
   "execution_count": 247,
   "metadata": {},
   "outputs": [],
   "source": [
    "#GABRIELA MARIA RAMIREZ ROSALES (fila 69) = GABRIELA RAMIREZ ROSALES (fila 417)\n",
    "ds.loc[ds['N'] == 417,['Nombre']]='GABRIELA MARIA'"
   ]
  },
  {
   "cell_type": "code",
   "execution_count": 248,
   "metadata": {},
   "outputs": [],
   "source": [
    "#BLANCA JULIA ROSARIO LUNA  (fila 52) = BLANCA ROSARIO LUNA BLANCA (fila 409)\n",
    "ds.loc[ds['N'] == 409,['Nombre']]='BLANCA JULIA'\n",
    "ds.loc[ds['N'] == 409,['Apellidos']]='ROSARIO LUNA'"
   ]
  },
  {
   "cell_type": "code",
   "execution_count": 249,
   "metadata": {},
   "outputs": [],
   "source": [
    "#Consultados y verificados en el Registro de Organizaciones Politicas\n",
    "ds.loc[ds['N'].isin([3,4,5,6,7,8,9,10,11,12,13]),['PartidoPolitico']]= 'Ninguno'\n",
    "ds.loc[ds['N'].isin([21,23,24,25,28,29,30,31,32,36,39,81,84,93]),['PartidoPolitico']]= 'Ninguno'\n",
    "ds.loc[ds['N'].isin([107,108,109,110,111,112,113,114,116,117,118,119,121,122,123,124,125,126,127,128,129,130,131,132]),['PartidoPolitico']]= 'Ninguno'\n",
    "ds.loc[ds['N'].isin([137,139,152,155,159,160,161,166,167,171,178,184,189,195,196,197,199,200]),['PartidoPolitico']]= 'Ninguno'\n",
    "ds.loc[ds['N'].isin([202,203,204,205,213,214,215,217,219,222,226,227,229,230,231,233,266,267,268,269,273,284,286,288,318,335,356,358,360,369,392]),['PartidoPolitico']]= 'Ninguno'"
   ]
  },
  {
   "cell_type": "code",
   "execution_count": 250,
   "metadata": {},
   "outputs": [],
   "source": [
    "#Inicializar FuncionarioPublico FALSE\n",
    "ds[\"FuncionarioPublico\"] = 0"
   ]
  },
  {
   "cell_type": "code",
   "execution_count": 251,
   "metadata": {},
   "outputs": [],
   "source": [
    "#Son FuncionarioPublico aquellos que tienen la siguiente OBSERVACION\n",
    "ds.loc[ds['Observacion'].isin(['MINSA','PERSONAL ENLACE CON MINSA','PERSONAL ENLACE CON RREE','RREE','ADMINISTRATIVO-VICERRECTOR','ADMINISTRATIVO-RECTOR','ADMINISTRATIVO -RECTOR UNMSM','ADMINISTRATIVO - VICERECTOR UNMSM']),['FuncionarioPublico']]= 1"
   ]
  },
  {
   "cell_type": "code",
   "execution_count": 252,
   "metadata": {},
   "outputs": [],
   "source": [
    "#Casos especiales, al parecer por caracteres especiales\n",
    "ds.loc[ds['N'] == 350,['FuncionarioPublico']] = 1\n",
    "ds.loc[ds['N'] == 351,['FuncionarioPublico']] = 1\n",
    "ds.loc[ds['N'] == 449,['FuncionarioPublico']] = 1"
   ]
  },
  {
   "cell_type": "code",
   "execution_count": 253,
   "metadata": {},
   "outputs": [],
   "source": [
    "#Casos especiales: Martin Vizcarra, Presidente de la Republica\n",
    "ds.loc[ds['N'] == 81,['FuncionarioPublico']] = 1"
   ]
  },
  {
   "cell_type": "code",
   "execution_count": 254,
   "metadata": {},
   "outputs": [],
   "source": [
    "ds[\"Dosis1\"] = ds.Fecha1.apply(lambda s: 1 if len(str(s)) == 10 else 0)"
   ]
  },
  {
   "cell_type": "code",
   "execution_count": 255,
   "metadata": {},
   "outputs": [],
   "source": [
    "ds[\"Dosis2\"] = ds.Fecha2.apply(lambda s: 1 if len(str(s)) == 10 else 0)"
   ]
  },
  {
   "cell_type": "code",
   "execution_count": 256,
   "metadata": {},
   "outputs": [],
   "source": [
    "ds[\"Dosis3\"] = ds.Fecha3.apply(lambda s: 1 if len(str(s)) == 10 else 0)"
   ]
  },
  {
   "cell_type": "code",
   "execution_count": 257,
   "metadata": {},
   "outputs": [],
   "source": [
    "ds[\"DosisTotales\"] = ds[\"Dosis1\"] + ds[\"Dosis2\"] + ds[\"Dosis3\"]"
   ]
  },
  {
   "cell_type": "code",
   "execution_count": 258,
   "metadata": {},
   "outputs": [
    {
     "output_type": "stream",
     "name": "stdout",
     "text": [
      "Personas con DosisTotales = 3 :  40\n"
     ]
    }
   ],
   "source": [
    "tres_dosis = ds.apply(lambda x: True if x['DosisTotales'] == 3 else False , axis=1)\n",
    "numOfRows = len(tres_dosis[tres_dosis == True].index)\n",
    "print('Personas con DosisTotales = 3 : ', numOfRows)"
   ]
  },
  {
   "cell_type": "code",
   "execution_count": 259,
   "metadata": {},
   "outputs": [
    {
     "output_type": "stream",
     "name": "stdout",
     "text": [
      "Personas con DosisTotales = 2 :  340\n"
     ]
    }
   ],
   "source": [
    "dos_dosis = ds.apply(lambda x: True if x['DosisTotales'] == 2 else False , axis=1)\n",
    "numOfRows = len(dos_dosis[dos_dosis == True].index)\n",
    "print('Personas con DosisTotales = 2 : ', numOfRows)"
   ]
  },
  {
   "cell_type": "code",
   "execution_count": 260,
   "metadata": {},
   "outputs": [
    {
     "output_type": "stream",
     "name": "stdout",
     "text": [
      "Personas con DosisTotales = 1 :  107\n"
     ]
    }
   ],
   "source": [
    "una_dosis = ds.apply(lambda x: True if x['DosisTotales'] == 1 else False , axis=1)\n",
    "numOfRows = len(una_dosis[una_dosis == True].index)\n",
    "print('Personas con DosisTotales = 1 : ', numOfRows)"
   ]
  },
  {
   "cell_type": "code",
   "execution_count": 261,
   "metadata": {},
   "outputs": [
    {
     "output_type": "execute_result",
     "data": {
      "text/plain": [
       "N                     20\n",
       "Sede                  20\n",
       "Apellidos             20\n",
       "Nombre                20\n",
       "Edad                   2\n",
       "DNI                   11\n",
       "Fecha1                20\n",
       "Fecha2                19\n",
       "Fecha3                 0\n",
       "Observacion           20\n",
       "Proyecto              20\n",
       "DNIValido             20\n",
       "PartidoPolitico       20\n",
       "FuncionarioPublico    20\n",
       "Dosis1                20\n",
       "Dosis2                20\n",
       "Dosis3                20\n",
       "DosisTotales          20\n",
       "dtype: int64"
      ]
     },
     "metadata": {},
     "execution_count": 261
    }
   ],
   "source": [
    "#Es duplicado si tiene los mismos Apellidos y Nombres\n",
    "nombres_duplicados = ds[ds.duplicated(['Apellidos', 'Nombre'])] \n",
    "nombres_duplicados.count()"
   ]
  },
  {
   "cell_type": "code",
   "execution_count": 262,
   "metadata": {},
   "outputs": [
    {
     "output_type": "execute_result",
     "data": {
      "text/plain": [
       "       N   Sede             Apellidos               Nombre  Edad       DNI  \\\n",
       "222  223   UPCH   GUERRERO GUARDAMINO          MIGUEL LUIS  41.0  40243227   \n",
       "273  274   UPCH      ALEGRE MALVACEDA              JESSICA  27.0  47795504   \n",
       "399  400  UNMSM         TICONA CHAVEZ       EDUARDO ROMULO   NaN  10723705   \n",
       "400  401  UNMSM      HUAROTO VALDIVIA      ROCIO DEL PILAR   NaN       NaN   \n",
       "401  402  UNMSM         CARMONA AVILA          PEDRO JESUS   NaN       NaN   \n",
       "402  403  UNMSM           TORRE LOPEZ         ARMANDO JOSE   NaN       NaN   \n",
       "403  404  UNMSM  GUEVARA CONDORHUAMAN         WENDY SHULAY   NaN  40875245   \n",
       "404  405  UNMSM       RONDAN GUERRERO         PAOLA LISETT   NaN  70077142   \n",
       "406  407  UNMSM         BRICEÑO TERAN     MARYORI KATHERYN   NaN  03193628   \n",
       "407  408  UNMSM        MUGRUZA PINEDA        RAQUEL ISABEL   NaN  46455876   \n",
       "408  409  UNMSM          ROSARIO LUNA         BLANCA JULIA   NaN       NaN   \n",
       "409  410  UNMSM        SANTOS REVILLA  GABRIELA DEL CARMEN   NaN  73145220   \n",
       "410  411  UNMSM      VASQUEZ CALDERON         IRMA YOLANDA   NaN  21070917   \n",
       "411  412  UNMSM       BENAVIDES BAZAN        VICTOR MIGUEL   NaN       NaN   \n",
       "412  413  UNMSM         BENITO MASIAS         MIGUEL OTHON   NaN  08239587   \n",
       "413  414  UNMSM     ALIPAZAGA CAMACHO          ROSA CARMEN   NaN       NaN   \n",
       "414  415  UNMSM         PASTRANA ÑAÑA         DELMA GLADYS   NaN       NaN   \n",
       "415  416  UNMSM        VARGAS UBILLUS    MARGARITA BEATRIZ   NaN  07212769   \n",
       "416  417  UNMSM       RAMIREZ ROSALES       GABRIELA MARIA   NaN       NaN   \n",
       "417  418  UNMSM        GUERRA BRICEÑO       RICARDO ANDRES   NaN       NaN   \n",
       "\n",
       "         Fecha1      Fecha2 Fecha3  \\\n",
       "222  2021-01-08  2021-01-29    NaN   \n",
       "273  2021-01-13         NaN    NaN   \n",
       "399  2020-09-14  2020-10-05    NaN   \n",
       "400        UPCH  2020-10-05    NaN   \n",
       "401        UPCH  2020-10-06    NaN   \n",
       "402        UPCH  2020-10-06    NaN   \n",
       "403  2020-09-16  2020-10-07    NaN   \n",
       "404  2020-09-16  2020-10-07    NaN   \n",
       "406  2020-09-17  2020-10-08    NaN   \n",
       "407  2020-09-17  2020-10-08    NaN   \n",
       "408        UPCH  2020-10-08    NaN   \n",
       "409  2020-09-17  2020-10-08    NaN   \n",
       "410  2020-09-17  2020-10-09    NaN   \n",
       "411        UPCH  2020-10-12    NaN   \n",
       "412  2020-09-21  2020-10-12    NaN   \n",
       "413        UPCH  2020-10-13    NaN   \n",
       "414        UPCH  2020-10-13    NaN   \n",
       "415  2020-09-19  2020-10-13    NaN   \n",
       "416        UPCH  2020-10-16    NaN   \n",
       "417        UPCH  2020-10-19    NaN   \n",
       "\n",
       "                                       Observacion  Proyecto  DNIValido  \\\n",
       "222                           PERSONAL DEL ESTUDIO  PROYECTO          1   \n",
       "273                           PERSONAL DEL ESTUDIO  PROYECTO          1   \n",
       "399                         INVESTIGADOR PRINCIPAL  PROYECTO          1   \n",
       "400      ADMINISTRATIVO - ASISTENTE ADMINISTRATIVO  PROYECTO          0   \n",
       "401                                    LABORATORIO  PROYECTO          0   \n",
       "402                              MEDICO DE ESTUDIO  PROYECTO          0   \n",
       "403                        COORDINADORA DE ESTUDIO  PROYECTO          1   \n",
       "404                               SUB INVESTIGADOR  PROYECTO          1   \n",
       "406                     ADMINISTRATIVO - RECEPCION  PROYECTO          1   \n",
       "407                        COORDINADORA DE ESTUDIO  PROYECTO          1   \n",
       "408                                  PASANTE UNMSM  PROYECTO          0   \n",
       "409                               SUB INVESTIGADOR  PROYECTO          1   \n",
       "410                         ENFERMERA - VACUNADORA  PROYECTO          1   \n",
       "411         ADMINISTRATIVO - INGENIERO DE SISTEMAS  PROYECTO          0   \n",
       "412  ADMINISTRATIVO - DIRECTOR DE LA CLINICA UNMSM  PROYECTO          1   \n",
       "413                         ENFERMERA - VACUNADORA  PROYECTO          0   \n",
       "414                                TEC. ENFERMERIA  PROYECTO          0   \n",
       "415                           ENFERMERA-VACUNADORA  PROYECTO          1   \n",
       "416                                  MONITOR UNMSM  PROYECTO          0   \n",
       "417                              MEDICO DE ESTUDIO  PROYECTO          0   \n",
       "\n",
       "                   PartidoPolitico  FuncionarioPublico  Dosis1  Dosis2  \\\n",
       "222                                                  0       1       1   \n",
       "273                                                  0       1       0   \n",
       "399                                                  0       1       1   \n",
       "400  Sin DNI no se puede verificar                   0       0       1   \n",
       "401  Sin DNI no se puede verificar                   0       0       1   \n",
       "402  Sin DNI no se puede verificar                   0       0       1   \n",
       "403                                                  0       1       1   \n",
       "404                                                  0       1       1   \n",
       "406                                                  0       1       1   \n",
       "407                                                  0       1       1   \n",
       "408  Sin DNI no se puede verificar                   0       0       1   \n",
       "409                                                  0       1       1   \n",
       "410                                                  0       1       1   \n",
       "411  Sin DNI no se puede verificar                   0       0       1   \n",
       "412                                                  0       1       1   \n",
       "413  Sin DNI no se puede verificar                   0       0       1   \n",
       "414  Sin DNI no se puede verificar                   0       0       1   \n",
       "415                                                  0       1       1   \n",
       "416  Sin DNI no se puede verificar                   0       0       1   \n",
       "417  Sin DNI no se puede verificar                   0       0       1   \n",
       "\n",
       "     Dosis3  DosisTotales  \n",
       "222       0             2  \n",
       "273       0             1  \n",
       "399       0             2  \n",
       "400       0             1  \n",
       "401       0             1  \n",
       "402       0             1  \n",
       "403       0             2  \n",
       "404       0             2  \n",
       "406       0             2  \n",
       "407       0             2  \n",
       "408       0             1  \n",
       "409       0             2  \n",
       "410       0             2  \n",
       "411       0             1  \n",
       "412       0             2  \n",
       "413       0             1  \n",
       "414       0             1  \n",
       "415       0             2  \n",
       "416       0             1  \n",
       "417       0             1  "
      ],
      "text/html": "<div>\n<style scoped>\n    .dataframe tbody tr th:only-of-type {\n        vertical-align: middle;\n    }\n\n    .dataframe tbody tr th {\n        vertical-align: top;\n    }\n\n    .dataframe thead th {\n        text-align: right;\n    }\n</style>\n<table border=\"1\" class=\"dataframe\">\n  <thead>\n    <tr style=\"text-align: right;\">\n      <th></th>\n      <th>N</th>\n      <th>Sede</th>\n      <th>Apellidos</th>\n      <th>Nombre</th>\n      <th>Edad</th>\n      <th>DNI</th>\n      <th>Fecha1</th>\n      <th>Fecha2</th>\n      <th>Fecha3</th>\n      <th>Observacion</th>\n      <th>Proyecto</th>\n      <th>DNIValido</th>\n      <th>PartidoPolitico</th>\n      <th>FuncionarioPublico</th>\n      <th>Dosis1</th>\n      <th>Dosis2</th>\n      <th>Dosis3</th>\n      <th>DosisTotales</th>\n    </tr>\n  </thead>\n  <tbody>\n    <tr>\n      <th>222</th>\n      <td>223</td>\n      <td>UPCH</td>\n      <td>GUERRERO GUARDAMINO</td>\n      <td>MIGUEL LUIS</td>\n      <td>41.0</td>\n      <td>40243227</td>\n      <td>2021-01-08</td>\n      <td>2021-01-29</td>\n      <td>NaN</td>\n      <td>PERSONAL DEL ESTUDIO</td>\n      <td>PROYECTO</td>\n      <td>1</td>\n      <td></td>\n      <td>0</td>\n      <td>1</td>\n      <td>1</td>\n      <td>0</td>\n      <td>2</td>\n    </tr>\n    <tr>\n      <th>273</th>\n      <td>274</td>\n      <td>UPCH</td>\n      <td>ALEGRE MALVACEDA</td>\n      <td>JESSICA</td>\n      <td>27.0</td>\n      <td>47795504</td>\n      <td>2021-01-13</td>\n      <td>NaN</td>\n      <td>NaN</td>\n      <td>PERSONAL DEL ESTUDIO</td>\n      <td>PROYECTO</td>\n      <td>1</td>\n      <td></td>\n      <td>0</td>\n      <td>1</td>\n      <td>0</td>\n      <td>0</td>\n      <td>1</td>\n    </tr>\n    <tr>\n      <th>399</th>\n      <td>400</td>\n      <td>UNMSM</td>\n      <td>TICONA CHAVEZ</td>\n      <td>EDUARDO ROMULO</td>\n      <td>NaN</td>\n      <td>10723705</td>\n      <td>2020-09-14</td>\n      <td>2020-10-05</td>\n      <td>NaN</td>\n      <td>INVESTIGADOR PRINCIPAL</td>\n      <td>PROYECTO</td>\n      <td>1</td>\n      <td></td>\n      <td>0</td>\n      <td>1</td>\n      <td>1</td>\n      <td>0</td>\n      <td>2</td>\n    </tr>\n    <tr>\n      <th>400</th>\n      <td>401</td>\n      <td>UNMSM</td>\n      <td>HUAROTO VALDIVIA</td>\n      <td>ROCIO DEL PILAR</td>\n      <td>NaN</td>\n      <td>NaN</td>\n      <td>UPCH</td>\n      <td>2020-10-05</td>\n      <td>NaN</td>\n      <td>ADMINISTRATIVO - ASISTENTE ADMINISTRATIVO</td>\n      <td>PROYECTO</td>\n      <td>0</td>\n      <td>Sin DNI no se puede verificar</td>\n      <td>0</td>\n      <td>0</td>\n      <td>1</td>\n      <td>0</td>\n      <td>1</td>\n    </tr>\n    <tr>\n      <th>401</th>\n      <td>402</td>\n      <td>UNMSM</td>\n      <td>CARMONA AVILA</td>\n      <td>PEDRO JESUS</td>\n      <td>NaN</td>\n      <td>NaN</td>\n      <td>UPCH</td>\n      <td>2020-10-06</td>\n      <td>NaN</td>\n      <td>LABORATORIO</td>\n      <td>PROYECTO</td>\n      <td>0</td>\n      <td>Sin DNI no se puede verificar</td>\n      <td>0</td>\n      <td>0</td>\n      <td>1</td>\n      <td>0</td>\n      <td>1</td>\n    </tr>\n    <tr>\n      <th>402</th>\n      <td>403</td>\n      <td>UNMSM</td>\n      <td>TORRE LOPEZ</td>\n      <td>ARMANDO JOSE</td>\n      <td>NaN</td>\n      <td>NaN</td>\n      <td>UPCH</td>\n      <td>2020-10-06</td>\n      <td>NaN</td>\n      <td>MEDICO DE ESTUDIO</td>\n      <td>PROYECTO</td>\n      <td>0</td>\n      <td>Sin DNI no se puede verificar</td>\n      <td>0</td>\n      <td>0</td>\n      <td>1</td>\n      <td>0</td>\n      <td>1</td>\n    </tr>\n    <tr>\n      <th>403</th>\n      <td>404</td>\n      <td>UNMSM</td>\n      <td>GUEVARA CONDORHUAMAN</td>\n      <td>WENDY SHULAY</td>\n      <td>NaN</td>\n      <td>40875245</td>\n      <td>2020-09-16</td>\n      <td>2020-10-07</td>\n      <td>NaN</td>\n      <td>COORDINADORA DE ESTUDIO</td>\n      <td>PROYECTO</td>\n      <td>1</td>\n      <td></td>\n      <td>0</td>\n      <td>1</td>\n      <td>1</td>\n      <td>0</td>\n      <td>2</td>\n    </tr>\n    <tr>\n      <th>404</th>\n      <td>405</td>\n      <td>UNMSM</td>\n      <td>RONDAN GUERRERO</td>\n      <td>PAOLA LISETT</td>\n      <td>NaN</td>\n      <td>70077142</td>\n      <td>2020-09-16</td>\n      <td>2020-10-07</td>\n      <td>NaN</td>\n      <td>SUB INVESTIGADOR</td>\n      <td>PROYECTO</td>\n      <td>1</td>\n      <td></td>\n      <td>0</td>\n      <td>1</td>\n      <td>1</td>\n      <td>0</td>\n      <td>2</td>\n    </tr>\n    <tr>\n      <th>406</th>\n      <td>407</td>\n      <td>UNMSM</td>\n      <td>BRICEÑO TERAN</td>\n      <td>MARYORI KATHERYN</td>\n      <td>NaN</td>\n      <td>03193628</td>\n      <td>2020-09-17</td>\n      <td>2020-10-08</td>\n      <td>NaN</td>\n      <td>ADMINISTRATIVO - RECEPCION</td>\n      <td>PROYECTO</td>\n      <td>1</td>\n      <td></td>\n      <td>0</td>\n      <td>1</td>\n      <td>1</td>\n      <td>0</td>\n      <td>2</td>\n    </tr>\n    <tr>\n      <th>407</th>\n      <td>408</td>\n      <td>UNMSM</td>\n      <td>MUGRUZA PINEDA</td>\n      <td>RAQUEL ISABEL</td>\n      <td>NaN</td>\n      <td>46455876</td>\n      <td>2020-09-17</td>\n      <td>2020-10-08</td>\n      <td>NaN</td>\n      <td>COORDINADORA DE ESTUDIO</td>\n      <td>PROYECTO</td>\n      <td>1</td>\n      <td></td>\n      <td>0</td>\n      <td>1</td>\n      <td>1</td>\n      <td>0</td>\n      <td>2</td>\n    </tr>\n    <tr>\n      <th>408</th>\n      <td>409</td>\n      <td>UNMSM</td>\n      <td>ROSARIO LUNA</td>\n      <td>BLANCA JULIA</td>\n      <td>NaN</td>\n      <td>NaN</td>\n      <td>UPCH</td>\n      <td>2020-10-08</td>\n      <td>NaN</td>\n      <td>PASANTE UNMSM</td>\n      <td>PROYECTO</td>\n      <td>0</td>\n      <td>Sin DNI no se puede verificar</td>\n      <td>0</td>\n      <td>0</td>\n      <td>1</td>\n      <td>0</td>\n      <td>1</td>\n    </tr>\n    <tr>\n      <th>409</th>\n      <td>410</td>\n      <td>UNMSM</td>\n      <td>SANTOS REVILLA</td>\n      <td>GABRIELA DEL CARMEN</td>\n      <td>NaN</td>\n      <td>73145220</td>\n      <td>2020-09-17</td>\n      <td>2020-10-08</td>\n      <td>NaN</td>\n      <td>SUB INVESTIGADOR</td>\n      <td>PROYECTO</td>\n      <td>1</td>\n      <td></td>\n      <td>0</td>\n      <td>1</td>\n      <td>1</td>\n      <td>0</td>\n      <td>2</td>\n    </tr>\n    <tr>\n      <th>410</th>\n      <td>411</td>\n      <td>UNMSM</td>\n      <td>VASQUEZ CALDERON</td>\n      <td>IRMA YOLANDA</td>\n      <td>NaN</td>\n      <td>21070917</td>\n      <td>2020-09-17</td>\n      <td>2020-10-09</td>\n      <td>NaN</td>\n      <td>ENFERMERA - VACUNADORA</td>\n      <td>PROYECTO</td>\n      <td>1</td>\n      <td></td>\n      <td>0</td>\n      <td>1</td>\n      <td>1</td>\n      <td>0</td>\n      <td>2</td>\n    </tr>\n    <tr>\n      <th>411</th>\n      <td>412</td>\n      <td>UNMSM</td>\n      <td>BENAVIDES BAZAN</td>\n      <td>VICTOR MIGUEL</td>\n      <td>NaN</td>\n      <td>NaN</td>\n      <td>UPCH</td>\n      <td>2020-10-12</td>\n      <td>NaN</td>\n      <td>ADMINISTRATIVO - INGENIERO DE SISTEMAS</td>\n      <td>PROYECTO</td>\n      <td>0</td>\n      <td>Sin DNI no se puede verificar</td>\n      <td>0</td>\n      <td>0</td>\n      <td>1</td>\n      <td>0</td>\n      <td>1</td>\n    </tr>\n    <tr>\n      <th>412</th>\n      <td>413</td>\n      <td>UNMSM</td>\n      <td>BENITO MASIAS</td>\n      <td>MIGUEL OTHON</td>\n      <td>NaN</td>\n      <td>08239587</td>\n      <td>2020-09-21</td>\n      <td>2020-10-12</td>\n      <td>NaN</td>\n      <td>ADMINISTRATIVO - DIRECTOR DE LA CLINICA UNMSM</td>\n      <td>PROYECTO</td>\n      <td>1</td>\n      <td></td>\n      <td>0</td>\n      <td>1</td>\n      <td>1</td>\n      <td>0</td>\n      <td>2</td>\n    </tr>\n    <tr>\n      <th>413</th>\n      <td>414</td>\n      <td>UNMSM</td>\n      <td>ALIPAZAGA CAMACHO</td>\n      <td>ROSA CARMEN</td>\n      <td>NaN</td>\n      <td>NaN</td>\n      <td>UPCH</td>\n      <td>2020-10-13</td>\n      <td>NaN</td>\n      <td>ENFERMERA - VACUNADORA</td>\n      <td>PROYECTO</td>\n      <td>0</td>\n      <td>Sin DNI no se puede verificar</td>\n      <td>0</td>\n      <td>0</td>\n      <td>1</td>\n      <td>0</td>\n      <td>1</td>\n    </tr>\n    <tr>\n      <th>414</th>\n      <td>415</td>\n      <td>UNMSM</td>\n      <td>PASTRANA ÑAÑA</td>\n      <td>DELMA GLADYS</td>\n      <td>NaN</td>\n      <td>NaN</td>\n      <td>UPCH</td>\n      <td>2020-10-13</td>\n      <td>NaN</td>\n      <td>TEC. ENFERMERIA</td>\n      <td>PROYECTO</td>\n      <td>0</td>\n      <td>Sin DNI no se puede verificar</td>\n      <td>0</td>\n      <td>0</td>\n      <td>1</td>\n      <td>0</td>\n      <td>1</td>\n    </tr>\n    <tr>\n      <th>415</th>\n      <td>416</td>\n      <td>UNMSM</td>\n      <td>VARGAS UBILLUS</td>\n      <td>MARGARITA BEATRIZ</td>\n      <td>NaN</td>\n      <td>07212769</td>\n      <td>2020-09-19</td>\n      <td>2020-10-13</td>\n      <td>NaN</td>\n      <td>ENFERMERA-VACUNADORA</td>\n      <td>PROYECTO</td>\n      <td>1</td>\n      <td></td>\n      <td>0</td>\n      <td>1</td>\n      <td>1</td>\n      <td>0</td>\n      <td>2</td>\n    </tr>\n    <tr>\n      <th>416</th>\n      <td>417</td>\n      <td>UNMSM</td>\n      <td>RAMIREZ ROSALES</td>\n      <td>GABRIELA MARIA</td>\n      <td>NaN</td>\n      <td>NaN</td>\n      <td>UPCH</td>\n      <td>2020-10-16</td>\n      <td>NaN</td>\n      <td>MONITOR UNMSM</td>\n      <td>PROYECTO</td>\n      <td>0</td>\n      <td>Sin DNI no se puede verificar</td>\n      <td>0</td>\n      <td>0</td>\n      <td>1</td>\n      <td>0</td>\n      <td>1</td>\n    </tr>\n    <tr>\n      <th>417</th>\n      <td>418</td>\n      <td>UNMSM</td>\n      <td>GUERRA BRICEÑO</td>\n      <td>RICARDO ANDRES</td>\n      <td>NaN</td>\n      <td>NaN</td>\n      <td>UPCH</td>\n      <td>2020-10-19</td>\n      <td>NaN</td>\n      <td>MEDICO DE ESTUDIO</td>\n      <td>PROYECTO</td>\n      <td>0</td>\n      <td>Sin DNI no se puede verificar</td>\n      <td>0</td>\n      <td>0</td>\n      <td>1</td>\n      <td>0</td>\n      <td>1</td>\n    </tr>\n  </tbody>\n</table>\n</div>"
     },
     "metadata": {},
     "execution_count": 262
    }
   ],
   "source": [
    "nombres_duplicados.head(20)"
   ]
  },
  {
   "cell_type": "code",
   "execution_count": 263,
   "metadata": {},
   "outputs": [],
   "source": [
    "#Columna DUPLICADO, valor por defecto: No\n",
    "ds[\"Duplicado\"] = ds.N.apply(lambda s: 0 if s > 0 else 1)"
   ]
  },
  {
   "cell_type": "code",
   "execution_count": 264,
   "metadata": {},
   "outputs": [],
   "source": [
    "#Marcar los duplicados\n",
    "ds.loc[ds['N'].isin(nombres_duplicados['N']),['Duplicado']]= 1"
   ]
  },
  {
   "cell_type": "code",
   "execution_count": 265,
   "metadata": {},
   "outputs": [],
   "source": [
    "#Guardar archivo corregido\n",
    "ds.to_csv(archivo_limpiado, index=False)"
   ]
  },
  {
   "cell_type": "code",
   "execution_count": null,
   "metadata": {},
   "outputs": [],
   "source": []
  }
 ],
 "metadata": {
  "kernelspec": {
   "display_name": "Python 3",
   "language": "python",
   "name": "python3"
  },
  "language_info": {
   "codemirror_mode": {
    "name": "ipython",
    "version": 3
   },
   "file_extension": ".py",
   "mimetype": "text/x-python",
   "name": "python",
   "nbconvert_exporter": "python",
   "pygments_lexer": "ipython3",
   "version": "3.8.3"
  }
 },
 "nbformat": 4,
 "nbformat_minor": 4
}